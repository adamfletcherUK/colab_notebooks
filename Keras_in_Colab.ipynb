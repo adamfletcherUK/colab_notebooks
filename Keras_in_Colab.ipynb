{
  "nbformat": 4,
  "nbformat_minor": 0,
  "metadata": {
    "colab": {
      "name": "Keras in Colab.ipynb",
      "provenance": [],
      "authorship_tag": "ABX9TyO2P8lIH97L5spqgXAEPFEk",
      "include_colab_link": true
    },
    "kernelspec": {
      "name": "python3",
      "display_name": "Python 3"
    },
    "language_info": {
      "name": "python"
    }
  },
  "cells": [
    {
      "cell_type": "markdown",
      "metadata": {
        "id": "view-in-github",
        "colab_type": "text"
      },
      "source": [
        "<a href=\"https://colab.research.google.com/github/adamfletcherUK/colab_notebooks/blob/main/Keras_in_Colab.ipynb\" target=\"_parent\"><img src=\"https://colab.research.google.com/assets/colab-badge.svg\" alt=\"Open In Colab\"/></a>"
      ]
    },
    {
      "cell_type": "markdown",
      "source": [
        "# Exploring Using Keras in Google Colab\n",
        "\n",
        "Goal of this notebook is to initialise a simple neural net using the Keras API on colab to test its [colabs] features. \n",
        "\n",
        "This is mainly due to my primary computer being an M1 macbook - but I also need to explore some new updates that allow PyTorch to utilise the M1s neural engine."
      ],
      "metadata": {
        "id": "pGScH7Pa8cG3"
      }
    },
    {
      "cell_type": "code",
      "source": [
        "import numpy as np\n",
        "from random import randint\n",
        "from sklearn.utils import shuffle\n",
        "from sklearn.preprocessing import MinMaxScaler"
      ],
      "metadata": {
        "id": "6q0um2pz9FVi"
      },
      "execution_count": 2,
      "outputs": []
    },
    {
      "cell_type": "code",
      "source": [
        "train_labels= []\n",
        "train_samples = []"
      ],
      "metadata": {
        "id": "8RtUUJxh-SzL"
      },
      "execution_count": 4,
      "outputs": []
    },
    {
      "cell_type": "code",
      "source": [
        "#example given is a drug given to cohorts of people. People aged <65 had a 5% \n",
        "# chance of side effects. While people >65 had a 95% chance of side effects.\n",
        "# We synthesise the data ourselves as it is quite simplistic\n",
        "\n",
        "for i in range(50):\n",
        "  random_younger = randint(13,64)\n",
        "  train_samples.append(random_younger)\n",
        "  train_labels.append(1)\n",
        "\n",
        "  random_older = randint(65, 100)\n",
        "  train_samples.append(random_older)\n",
        "  train_labels.append(0)\n",
        "\n",
        "for i in range(1000):\n",
        "  random_younger = randint(13,64)\n",
        "  train_samples.append(random_younger)\n",
        "  train_labels.append(0)\n",
        "\n",
        "  random_older = randint(65, 100)\n",
        "  train_samples.append(random_older)\n",
        "  train_labels.append(1)"
      ],
      "metadata": {
        "id": "LF6CODz6Q-AG"
      },
      "execution_count": 5,
      "outputs": []
    },
    {
      "cell_type": "code",
      "source": [
        "train_labels = np.array(train_labels)\n",
        "train_samples = np.array(train_samples)\n",
        "train_labels, train_samples = shuffle(train_labels, train_samples)"
      ],
      "metadata": {
        "id": "owIbtrK5SMZM"
      },
      "execution_count": 31,
      "outputs": []
    },
    {
      "cell_type": "code",
      "source": [
        "scaler = MinMaxScaler(feature_range=(0,1))\n",
        "scaled_train_samples = scaler.fit_transform(train_samples.reshape(-1,1))\n",
        "scaled_train_samples"
      ],
      "metadata": {
        "colab": {
          "base_uri": "https://localhost:8080/"
        },
        "id": "3QXBRcdVTV1F",
        "outputId": "b2c188c6-4d56-4068-9ff7-e17cbc76db16"
      },
      "execution_count": 41,
      "outputs": [
        {
          "output_type": "execute_result",
          "data": {
            "text/plain": [
              "array([[0.31034483],\n",
              "       [0.6091954 ],\n",
              "       [0.4137931 ],\n",
              "       ...,\n",
              "       [0.94252874],\n",
              "       [0.13793103],\n",
              "       [0.86206897]])"
            ]
          },
          "metadata": {},
          "execution_count": 41
        }
      ]
    },
    {
      "cell_type": "code",
      "source": [
        "import tensorflow as tf\n",
        "from tensorflow import keras\n",
        "from tensorflow.keras.models import Sequential\n",
        "from tensorflow.keras.layers import Activation, Dense\n",
        "from tensorflow.keras.optimizers import Adam\n",
        "from tensorflow.keras.metrics import categorical_crossentropy"
      ],
      "metadata": {
        "id": "ycTdnVMITmdU"
      },
      "execution_count": 33,
      "outputs": []
    },
    {
      "cell_type": "code",
      "source": [
        "model = Sequential([\n",
        "            Dense(units=16, input_shape=(1,), activation='relu'),\n",
        "            Dense(units=32, activation='relu'),\n",
        "            Dense(units=2, activation='softmax')\n",
        "])"
      ],
      "metadata": {
        "id": "DUB0q5UMVCk1"
      },
      "execution_count": 34,
      "outputs": []
    },
    {
      "cell_type": "code",
      "source": [
        "model.summary()"
      ],
      "metadata": {
        "colab": {
          "base_uri": "https://localhost:8080/"
        },
        "id": "dF1kLxwyVJ_n",
        "outputId": "769b66ef-8e56-491c-9bdf-d69317014062"
      },
      "execution_count": 35,
      "outputs": [
        {
          "output_type": "stream",
          "name": "stdout",
          "text": [
            "Model: \"sequential_1\"\n",
            "_________________________________________________________________\n",
            " Layer (type)                Output Shape              Param #   \n",
            "=================================================================\n",
            " dense_3 (Dense)             (None, 16)                32        \n",
            "                                                                 \n",
            " dense_4 (Dense)             (None, 32)                544       \n",
            "                                                                 \n",
            " dense_5 (Dense)             (None, 2)                 66        \n",
            "                                                                 \n",
            "=================================================================\n",
            "Total params: 642\n",
            "Trainable params: 642\n",
            "Non-trainable params: 0\n",
            "_________________________________________________________________\n"
          ]
        }
      ]
    },
    {
      "cell_type": "code",
      "source": [
        "model.compile(optimizer=Adam(learning_rate=0.0001), \n",
        "              loss='sparse_categorical_crossentropy',\n",
        "              metrics=['accuracy'])"
      ],
      "metadata": {
        "id": "6PuONQJJV1-x"
      },
      "execution_count": 36,
      "outputs": []
    },
    {
      "cell_type": "code",
      "source": [
        "model.fit(x=scaled_train_samples, \n",
        "          y=train_labels, \n",
        "          validation_split=0.1,\n",
        "          batch_size=10, \n",
        "          epochs=30,\n",
        "          shuffle=True)"
      ],
      "metadata": {
        "colab": {
          "base_uri": "https://localhost:8080/"
        },
        "id": "TSBUHzLOXZ4M",
        "outputId": "932eb856-571d-4cfd-b906-2ff569a383b3"
      },
      "execution_count": 37,
      "outputs": [
        {
          "output_type": "stream",
          "name": "stdout",
          "text": [
            "Epoch 1/30\n",
            "189/189 [==============================] - 2s 3ms/step - loss: 0.6860 - accuracy: 0.5508 - val_loss: 0.6695 - val_accuracy: 0.6333\n",
            "Epoch 2/30\n",
            "189/189 [==============================] - 0s 2ms/step - loss: 0.6531 - accuracy: 0.6566 - val_loss: 0.6414 - val_accuracy: 0.6762\n",
            "Epoch 3/30\n",
            "189/189 [==============================] - 1s 8ms/step - loss: 0.6223 - accuracy: 0.7042 - val_loss: 0.6125 - val_accuracy: 0.7048\n",
            "Epoch 4/30\n",
            "189/189 [==============================] - 1s 3ms/step - loss: 0.5911 - accuracy: 0.7524 - val_loss: 0.5828 - val_accuracy: 0.7571\n",
            "Epoch 5/30\n",
            "189/189 [==============================] - 0s 2ms/step - loss: 0.5592 - accuracy: 0.7868 - val_loss: 0.5532 - val_accuracy: 0.7667\n",
            "Epoch 6/30\n",
            "189/189 [==============================] - 1s 3ms/step - loss: 0.5272 - accuracy: 0.8175 - val_loss: 0.5234 - val_accuracy: 0.8048\n",
            "Epoch 7/30\n",
            "189/189 [==============================] - 0s 2ms/step - loss: 0.4950 - accuracy: 0.8460 - val_loss: 0.4943 - val_accuracy: 0.8143\n",
            "Epoch 8/30\n",
            "189/189 [==============================] - 1s 3ms/step - loss: 0.4635 - accuracy: 0.8630 - val_loss: 0.4660 - val_accuracy: 0.8190\n",
            "Epoch 9/30\n",
            "189/189 [==============================] - 0s 2ms/step - loss: 0.4337 - accuracy: 0.8794 - val_loss: 0.4399 - val_accuracy: 0.8381\n",
            "Epoch 10/30\n",
            "189/189 [==============================] - 0s 3ms/step - loss: 0.4064 - accuracy: 0.8921 - val_loss: 0.4168 - val_accuracy: 0.8667\n",
            "Epoch 11/30\n",
            "189/189 [==============================] - 0s 2ms/step - loss: 0.3821 - accuracy: 0.8984 - val_loss: 0.3964 - val_accuracy: 0.8762\n",
            "Epoch 12/30\n",
            "189/189 [==============================] - 0s 2ms/step - loss: 0.3610 - accuracy: 0.9058 - val_loss: 0.3792 - val_accuracy: 0.8857\n",
            "Epoch 13/30\n",
            "189/189 [==============================] - 1s 3ms/step - loss: 0.3429 - accuracy: 0.9127 - val_loss: 0.3646 - val_accuracy: 0.8952\n",
            "Epoch 14/30\n",
            "189/189 [==============================] - 0s 2ms/step - loss: 0.3275 - accuracy: 0.9164 - val_loss: 0.3535 - val_accuracy: 0.8952\n",
            "Epoch 15/30\n",
            "189/189 [==============================] - 0s 2ms/step - loss: 0.3145 - accuracy: 0.9159 - val_loss: 0.3431 - val_accuracy: 0.8952\n",
            "Epoch 16/30\n",
            "189/189 [==============================] - 0s 2ms/step - loss: 0.3035 - accuracy: 0.9201 - val_loss: 0.3343 - val_accuracy: 0.9000\n",
            "Epoch 17/30\n",
            "189/189 [==============================] - 0s 2ms/step - loss: 0.2941 - accuracy: 0.9259 - val_loss: 0.3290 - val_accuracy: 0.9000\n",
            "Epoch 18/30\n",
            "189/189 [==============================] - 0s 2ms/step - loss: 0.2868 - accuracy: 0.9233 - val_loss: 0.3228 - val_accuracy: 0.9000\n",
            "Epoch 19/30\n",
            "189/189 [==============================] - 0s 2ms/step - loss: 0.2802 - accuracy: 0.9228 - val_loss: 0.3180 - val_accuracy: 0.9000\n",
            "Epoch 20/30\n",
            "189/189 [==============================] - 0s 2ms/step - loss: 0.2747 - accuracy: 0.9249 - val_loss: 0.3134 - val_accuracy: 0.9143\n",
            "Epoch 21/30\n",
            "189/189 [==============================] - 0s 2ms/step - loss: 0.2703 - accuracy: 0.9286 - val_loss: 0.3103 - val_accuracy: 0.9143\n",
            "Epoch 22/30\n",
            "189/189 [==============================] - 0s 2ms/step - loss: 0.2664 - accuracy: 0.9344 - val_loss: 0.3078 - val_accuracy: 0.9143\n",
            "Epoch 23/30\n",
            "189/189 [==============================] - 0s 2ms/step - loss: 0.2631 - accuracy: 0.9317 - val_loss: 0.3061 - val_accuracy: 0.9143\n",
            "Epoch 24/30\n",
            "189/189 [==============================] - 0s 2ms/step - loss: 0.2602 - accuracy: 0.9307 - val_loss: 0.3041 - val_accuracy: 0.9143\n",
            "Epoch 25/30\n",
            "189/189 [==============================] - 0s 2ms/step - loss: 0.2577 - accuracy: 0.9365 - val_loss: 0.3024 - val_accuracy: 0.9286\n",
            "Epoch 26/30\n",
            "189/189 [==============================] - 0s 2ms/step - loss: 0.2556 - accuracy: 0.9402 - val_loss: 0.3022 - val_accuracy: 0.9143\n",
            "Epoch 27/30\n",
            "189/189 [==============================] - 0s 2ms/step - loss: 0.2537 - accuracy: 0.9354 - val_loss: 0.3003 - val_accuracy: 0.9143\n",
            "Epoch 28/30\n",
            "189/189 [==============================] - 0s 2ms/step - loss: 0.2521 - accuracy: 0.9386 - val_loss: 0.2988 - val_accuracy: 0.9286\n",
            "Epoch 29/30\n",
            "189/189 [==============================] - 0s 2ms/step - loss: 0.2506 - accuracy: 0.9392 - val_loss: 0.2981 - val_accuracy: 0.9286\n",
            "Epoch 30/30\n",
            "189/189 [==============================] - 0s 2ms/step - loss: 0.2490 - accuracy: 0.9429 - val_loss: 0.2988 - val_accuracy: 0.9143\n"
          ]
        },
        {
          "output_type": "execute_result",
          "data": {
            "text/plain": [
              "<keras.callbacks.History at 0x7f16614cdf90>"
            ]
          },
          "metadata": {},
          "execution_count": 37
        }
      ]
    },
    {
      "cell_type": "code",
      "source": [
        "test_labels = []\n",
        "test_samples = []\n",
        "\n",
        "for i in range(10):\n",
        "  random_younger = randint(13,64)\n",
        "  test_samples.append(random_younger)\n",
        "  test_labels.append(1)\n",
        "\n",
        "  random_older = randint(65, 100)\n",
        "  test_samples.append(random_older)\n",
        "  test_labels.append(0)\n",
        "\n",
        "for i in range(200):\n",
        "  random_younger = randint(13,64)\n",
        "  test_samples.append(random_younger)\n",
        "  test_labels.append(0)\n",
        "\n",
        "  random_older = randint(65, 100)\n",
        "  test_samples.append(random_older)\n",
        "  test_labels.append(1)"
      ],
      "metadata": {
        "id": "zYT2zpilXyDs"
      },
      "execution_count": 38,
      "outputs": []
    },
    {
      "cell_type": "code",
      "source": [
        "test_labels = np.array(test_labels)\n",
        "test_samples = np.array(test_samples)\n",
        "test_labels, test_samples = shuffle(test_labels, test_samples)"
      ],
      "metadata": {
        "id": "oqpDfJDTYCiZ"
      },
      "execution_count": 39,
      "outputs": []
    },
    {
      "cell_type": "code",
      "source": [
        "scaled_test_samples = scaler.fit_transform(test_samples.reshape(-1,1))"
      ],
      "metadata": {
        "id": "7QUWlPaidBSH"
      },
      "execution_count": 42,
      "outputs": []
    },
    {
      "cell_type": "code",
      "source": [
        "predictions= model.predict(x=scaled_test_samples, batch_size=10, verbose=0)"
      ],
      "metadata": {
        "id": "jK7UpeTLdIum"
      },
      "execution_count": 43,
      "outputs": []
    },
    {
      "cell_type": "code",
      "source": [
        "rounded_predictions = np.argmax(predictions, axis=-1)"
      ],
      "metadata": {
        "id": "MxRWNg75djfP"
      },
      "execution_count": 44,
      "outputs": []
    },
    {
      "cell_type": "code",
      "source": [
        "%matplotlib inline\n",
        "from sklearn.metrics import confusion_matrix\n",
        "import itertools\n",
        "import matplotlib.pyplot as plt"
      ],
      "metadata": {
        "id": "4BoOeWRqdrwK"
      },
      "execution_count": 48,
      "outputs": []
    },
    {
      "cell_type": "code",
      "source": [
        "cm = confusion_matrix(y_true=test_labels, y_pred=rounded_predictions)"
      ],
      "metadata": {
        "id": "9pEUlSv8dtak"
      },
      "execution_count": 49,
      "outputs": []
    },
    {
      "cell_type": "code",
      "source": [
        "cm"
      ],
      "metadata": {
        "colab": {
          "base_uri": "https://localhost:8080/"
        },
        "id": "V0w9fUcbgl49",
        "outputId": "752a3665-8125-43a1-ffb9-228b79b0e77e"
      },
      "execution_count": 52,
      "outputs": [
        {
          "output_type": "execute_result",
          "data": {
            "text/plain": [
              "array([[190,  20],\n",
              "       [  9, 201]])"
            ]
          },
          "metadata": {},
          "execution_count": 52
        }
      ]
    },
    {
      "cell_type": "code",
      "source": [
        ""
      ],
      "metadata": {
        "id": "Myb9EBhCg3jE"
      },
      "execution_count": null,
      "outputs": []
    }
  ]
}